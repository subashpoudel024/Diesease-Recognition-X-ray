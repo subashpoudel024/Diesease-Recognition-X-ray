{
  "nbformat": 4,
  "nbformat_minor": 0,
  "metadata": {
    "colab": {
      "provenance": [],
      "gpuType": "T4"
    },
    "kernelspec": {
      "name": "python3",
      "display_name": "Python 3"
    },
    "language_info": {
      "name": "python"
    },
    "accelerator": "GPU"
  },
  "cells": [
    {
      "cell_type": "code",
      "execution_count": null,
      "metadata": {
        "colab": {
          "base_uri": "https://localhost:8080/"
        },
        "id": "juGQoJyXcO_R",
        "outputId": "2135e5c4-52b3-4bdb-b2e2-d580830bb65f"
      },
      "outputs": [
        {
          "output_type": "stream",
          "name": "stdout",
          "text": [
            "Mounted at /content/drive\n"
          ]
        }
      ],
      "source": [
        "from google.colab import drive\n",
        "drive.mount('/content/drive')\n"
      ]
    },
    {
      "cell_type": "code",
      "source": [
        "from keras.models import Model\n",
        "from keras.layers import Flatten,Dense\n",
        "from keras.applications.vgg16 import VGG16\n",
        "import matplotlib.pyplot as plot\n",
        "from glob import glob"
      ],
      "metadata": {
        "id": "j6sWfaePdtCO"
      },
      "execution_count": null,
      "outputs": []
    },
    {
      "cell_type": "code",
      "source": [
        "IMAGESHAPE = [224, 224, 3]\n",
        "training_data = '/content/drive/MyDrive/TB_Chest_Radiography_Database/train'\n",
        "testing_data = '/content/drive/MyDrive/TB_Chest_Radiography_Database/test'"
      ],
      "metadata": {
        "id": "Vu-z-HL2d8nV"
      },
      "execution_count": null,
      "outputs": []
    },
    {
      "cell_type": "code",
      "source": [
        "import os\n",
        "\n",
        "# Path to the directory in Google Drive\n",
        "directory_path_normal = '/content/drive/MyDrive/TB_Chest_Radiography_Database/train/Normal'\n",
        "directory_path_tb = '/content/drive/MyDrive/TB_Chest_Radiography_Database/train/Tuberculosis'\n",
        "\n",
        "# Count the number of files in the directory\n",
        "num_files = sum([len(files) for r, d, files in os.walk(directory_path_normal)])\n",
        "print(f'Normal count \"{directory_path_normal}\" is: {num_files}')\n",
        "\n",
        "num_files = sum([len(files) for r, d, files in os.walk(directory_path_tb)])\n",
        "print(f'Pneumonia count \"{directory_path_tb}\" is: {num_files}')"
      ],
      "metadata": {
        "colab": {
          "base_uri": "https://localhost:8080/"
        },
        "id": "U2JiDzEsgNxk",
        "outputId": "7be83fd0-f09b-43b9-eb79-2a7811758ec5"
      },
      "execution_count": null,
      "outputs": [
        {
          "output_type": "stream",
          "name": "stdout",
          "text": [
            "Normal count \"/content/drive/MyDrive/TB_Chest_Radiography_Database/train/Normal\" is: 3300\n",
            "Pneumonia count \"/content/drive/MyDrive/TB_Chest_Radiography_Database/train/Tuberculosis\" is: 650\n"
          ]
        }
      ]
    },
    {
      "cell_type": "code",
      "source": [
        "vgg_model = VGG16(input_shape=IMAGESHAPE, weights='imagenet', include_top=False)"
      ],
      "metadata": {
        "colab": {
          "base_uri": "https://localhost:8080/"
        },
        "id": "Y1ZhjtnXgiky",
        "outputId": "6fc9e464-1559-4f3e-a755-870a82a94bd5"
      },
      "execution_count": null,
      "outputs": [
        {
          "output_type": "stream",
          "name": "stdout",
          "text": [
            "Downloading data from https://storage.googleapis.com/tensorflow/keras-applications/vgg16/vgg16_weights_tf_dim_ordering_tf_kernels_notop.h5\n",
            "58889256/58889256 [==============================] - 3s 0us/step\n"
          ]
        }
      ]
    },
    {
      "cell_type": "code",
      "source": [
        "for each_layer in vgg_model.layers:\n",
        "    each_layer.trainable = False"
      ],
      "metadata": {
        "id": "CqaTNjJliD4s"
      },
      "execution_count": null,
      "outputs": []
    },
    {
      "cell_type": "code",
      "source": [
        "flatten_layer = Flatten()(vgg_model.output)\n",
        "prediction = Dense(1, activation='sigmoid')(flatten_layer)"
      ],
      "metadata": {
        "id": "EPiNBEmgiIyF"
      },
      "execution_count": null,
      "outputs": []
    },
    {
      "cell_type": "code",
      "source": [
        "final_model = Model(inputs=vgg_model.input, outputs=prediction)\n",
        "final_model.summary()"
      ],
      "metadata": {
        "colab": {
          "base_uri": "https://localhost:8080/"
        },
        "id": "RQkAV3JSiLOt",
        "outputId": "01a82294-792e-4a4f-9650-d8e85ff36c88"
      },
      "execution_count": null,
      "outputs": [
        {
          "output_type": "stream",
          "name": "stdout",
          "text": [
            "Model: \"model\"\n",
            "_________________________________________________________________\n",
            " Layer (type)                Output Shape              Param #   \n",
            "=================================================================\n",
            " input_1 (InputLayer)        [(None, 224, 224, 3)]     0         \n",
            "                                                                 \n",
            " block1_conv1 (Conv2D)       (None, 224, 224, 64)      1792      \n",
            "                                                                 \n",
            " block1_conv2 (Conv2D)       (None, 224, 224, 64)      36928     \n",
            "                                                                 \n",
            " block1_pool (MaxPooling2D)  (None, 112, 112, 64)      0         \n",
            "                                                                 \n",
            " block2_conv1 (Conv2D)       (None, 112, 112, 128)     73856     \n",
            "                                                                 \n",
            " block2_conv2 (Conv2D)       (None, 112, 112, 128)     147584    \n",
            "                                                                 \n",
            " block2_pool (MaxPooling2D)  (None, 56, 56, 128)       0         \n",
            "                                                                 \n",
            " block3_conv1 (Conv2D)       (None, 56, 56, 256)       295168    \n",
            "                                                                 \n",
            " block3_conv2 (Conv2D)       (None, 56, 56, 256)       590080    \n",
            "                                                                 \n",
            " block3_conv3 (Conv2D)       (None, 56, 56, 256)       590080    \n",
            "                                                                 \n",
            " block3_pool (MaxPooling2D)  (None, 28, 28, 256)       0         \n",
            "                                                                 \n",
            " block4_conv1 (Conv2D)       (None, 28, 28, 512)       1180160   \n",
            "                                                                 \n",
            " block4_conv2 (Conv2D)       (None, 28, 28, 512)       2359808   \n",
            "                                                                 \n",
            " block4_conv3 (Conv2D)       (None, 28, 28, 512)       2359808   \n",
            "                                                                 \n",
            " block4_pool (MaxPooling2D)  (None, 14, 14, 512)       0         \n",
            "                                                                 \n",
            " block5_conv1 (Conv2D)       (None, 14, 14, 512)       2359808   \n",
            "                                                                 \n",
            " block5_conv2 (Conv2D)       (None, 14, 14, 512)       2359808   \n",
            "                                                                 \n",
            " block5_conv3 (Conv2D)       (None, 14, 14, 512)       2359808   \n",
            "                                                                 \n",
            " block5_pool (MaxPooling2D)  (None, 7, 7, 512)         0         \n",
            "                                                                 \n",
            " flatten (Flatten)           (None, 25088)             0         \n",
            "                                                                 \n",
            " dense (Dense)               (None, 1)                 25089     \n",
            "                                                                 \n",
            "=================================================================\n",
            "Total params: 14739777 (56.23 MB)\n",
            "Trainable params: 25089 (98.00 KB)\n",
            "Non-trainable params: 14714688 (56.13 MB)\n",
            "_________________________________________________________________\n"
          ]
        }
      ]
    },
    {
      "cell_type": "code",
      "source": [
        "import tensorflow as tf\n",
        "final_model.compile(\n",
        "  loss='binary_crossentropy',\n",
        "  optimizer='adam',\n",
        "  metrics=[tf.keras.metrics.Recall()]\n",
        ")"
      ],
      "metadata": {
        "id": "eu1WeLSGiNOl"
      },
      "execution_count": null,
      "outputs": []
    },
    {
      "cell_type": "code",
      "source": [
        "\n",
        "from keras.preprocessing.image import ImageDataGenerator\n",
        "train_datagen = ImageDataGenerator(rescale = 1./255,\n",
        "                                   shear_range = 0.2,\n",
        "                                   zoom_range = 0.2,\n",
        "                                   horizontal_flip = True)\n",
        "testing_datagen = ImageDataGenerator(rescale =1. / 255)"
      ],
      "metadata": {
        "id": "20IRFNGHiSsk"
      },
      "execution_count": null,
      "outputs": []
    },
    {
      "cell_type": "code",
      "source": [
        "\n",
        "training_set = train_datagen.flow_from_directory('/content/drive/MyDrive/TB_Chest_Radiography_Database/train',\n",
        "                                                 target_size = (224, 224),\n",
        "                                                 batch_size = 32,\n",
        "                                                 class_mode = 'binary')"
      ],
      "metadata": {
        "colab": {
          "base_uri": "https://localhost:8080/"
        },
        "id": "2RIKwyK-iVY1",
        "outputId": "3db2df90-f61b-44a3-bf47-219233cbe246"
      },
      "execution_count": null,
      "outputs": [
        {
          "output_type": "stream",
          "name": "stdout",
          "text": [
            "Found 3950 images belonging to 2 classes.\n"
          ]
        }
      ]
    },
    {
      "cell_type": "code",
      "source": [
        "test_set = testing_datagen.flow_from_directory('/content/drive/MyDrive/TB_Chest_Radiography_Database/test',\n",
        "                                               target_size = (224, 224),\n",
        "                                               batch_size = 32,\n",
        "                                               class_mode = 'binary')"
      ],
      "metadata": {
        "colab": {
          "base_uri": "https://localhost:8080/"
        },
        "id": "BOecVHd-imKn",
        "outputId": "f9f03915-6dee-4d95-8ed8-ce8fd5040fc7"
      },
      "execution_count": null,
      "outputs": [
        {
          "output_type": "stream",
          "name": "stdout",
          "text": [
            "Found 250 images belonging to 2 classes.\n"
          ]
        }
      ]
    },
    {
      "cell_type": "code",
      "source": [
        "fitted_model = final_model.fit(\n",
        "  training_set,\n",
        "  validation_data=test_set,\n",
        "  epochs=10,\n",
        "  steps_per_epoch=124,\n",
        "  validation_steps=8\n",
        ")"
      ],
      "metadata": {
        "colab": {
          "base_uri": "https://localhost:8080/"
        },
        "id": "bNR5JUs_iyhN",
        "outputId": "131bc869-8f42-4cc4-d4bd-872dd586def0"
      },
      "execution_count": null,
      "outputs": [
        {
          "output_type": "stream",
          "name": "stdout",
          "text": [
            "Epoch 1/10\n",
            "124/124 [==============================] - 2344s 19s/step - loss: 0.1413 - recall: 0.7538 - val_loss: 0.0343 - val_recall: 1.0000\n",
            "Epoch 2/10\n",
            "124/124 [==============================] - 98s 788ms/step - loss: 0.0717 - recall: 0.9000 - val_loss: 0.0193 - val_recall: 1.0000\n",
            "Epoch 3/10\n",
            "124/124 [==============================] - 98s 791ms/step - loss: 0.0579 - recall: 0.9215 - val_loss: 0.0199 - val_recall: 0.9800\n",
            "Epoch 4/10\n",
            "124/124 [==============================] - 98s 786ms/step - loss: 0.0427 - recall: 0.9462 - val_loss: 0.0129 - val_recall: 1.0000\n",
            "Epoch 5/10\n",
            "124/124 [==============================] - 95s 767ms/step - loss: 0.0444 - recall: 0.9338 - val_loss: 0.0062 - val_recall: 1.0000\n",
            "Epoch 6/10\n",
            "124/124 [==============================] - 100s 800ms/step - loss: 0.0372 - recall: 0.9508 - val_loss: 0.0101 - val_recall: 1.0000\n",
            "Epoch 7/10\n",
            "124/124 [==============================] - 96s 778ms/step - loss: 0.0353 - recall: 0.9554 - val_loss: 0.0062 - val_recall: 1.0000\n",
            "Epoch 8/10\n",
            "124/124 [==============================] - 95s 768ms/step - loss: 0.0288 - recall: 0.9600 - val_loss: 0.0047 - val_recall: 1.0000\n",
            "Epoch 9/10\n",
            "124/124 [==============================] - 98s 788ms/step - loss: 0.0297 - recall: 0.9554 - val_loss: 0.0085 - val_recall: 1.0000\n",
            "Epoch 10/10\n",
            "124/124 [==============================] - 96s 778ms/step - loss: 0.0278 - recall: 0.9646 - val_loss: 0.0059 - val_recall: 1.0000\n"
          ]
        }
      ]
    },
    {
      "cell_type": "code",
      "source": [
        "final_model.save('/content/drive/MyDrive/saved_models/tb-model.h5')"
      ],
      "metadata": {
        "colab": {
          "base_uri": "https://localhost:8080/"
        },
        "id": "of6KthHWi52l",
        "outputId": "703e069d-be01-4790-ed69-f17dd59294fe"
      },
      "execution_count": null,
      "outputs": [
        {
          "output_type": "stream",
          "name": "stderr",
          "text": [
            "/usr/local/lib/python3.10/dist-packages/keras/src/engine/training.py:3103: UserWarning: You are saving your model as an HDF5 file via `model.save()`. This file format is considered legacy. We recommend using instead the native Keras format, e.g. `model.save('my_model.keras')`.\n",
            "  saving_api.save_model(\n"
          ]
        }
      ]
    },
    {
      "cell_type": "code",
      "source": [
        "# Check the class indices\n",
        "print(training_set.class_indices)"
      ],
      "metadata": {
        "colab": {
          "base_uri": "https://localhost:8080/"
        },
        "id": "61scavhenwPt",
        "outputId": "103b0716-4f64-4443-bed0-f5aa2846b143"
      },
      "execution_count": null,
      "outputs": [
        {
          "output_type": "stream",
          "name": "stdout",
          "text": [
            "{'Normal': 0, 'Tuberculosis': 1}\n"
          ]
        }
      ]
    },
    {
      "cell_type": "code",
      "source": [
        "from tensorflow.keras.preprocessing import image\n",
        "import numpy as np\n",
        "\n",
        "testing_image = '/content/sample_data/tb-test2.jpg'\n",
        "# Load the image with target size matching the input size of the model\n",
        "img = image.load_img(testing_image, target_size=(224, 224))  # Adjust target_size as per your model input size\n",
        "\n",
        "# Convert the image to a numpy array\n",
        "img_array = image.img_to_array(img)\n",
        "\n",
        "# Expand the dimensions to match the model's input shape\n",
        "img_array = np.expand_dims(img_array, axis=0)\n",
        "\n",
        "# Normalize the image data (assuming the model was trained on normalized data)\n",
        "img_array = img_array / 255.0"
      ],
      "metadata": {
        "id": "a_H1uV1kxoXN"
      },
      "execution_count": null,
      "outputs": []
    },
    {
      "cell_type": "code",
      "source": [
        "final_model.predict(img_array)"
      ],
      "metadata": {
        "colab": {
          "base_uri": "https://localhost:8080/"
        },
        "id": "dIOY3WCYx3LE",
        "outputId": "b2cb459e-768d-427d-cb7d-da45b890b180"
      },
      "execution_count": null,
      "outputs": [
        {
          "output_type": "stream",
          "name": "stdout",
          "text": [
            "1/1 [==============================] - 0s 18ms/step\n"
          ]
        },
        {
          "output_type": "execute_result",
          "data": {
            "text/plain": [
              "array([[0.9603492]], dtype=float32)"
            ]
          },
          "metadata": {},
          "execution_count": 20
        }
      ]
    },
    {
      "cell_type": "code",
      "source": [
        "if final_model.predict(img_array)[0][0] > 0.5:\n",
        "  print('The person is affected by Tuberculosis')\n",
        "else:\n",
        "  print('The person is safe')"
      ],
      "metadata": {
        "colab": {
          "base_uri": "https://localhost:8080/"
        },
        "id": "N3UHh157x8WM",
        "outputId": "efa6793c-b935-46f5-ce77-58da3562e008"
      },
      "execution_count": null,
      "outputs": [
        {
          "output_type": "stream",
          "name": "stdout",
          "text": [
            "1/1 [==============================] - 0s 39ms/step\n",
            "The person is affected by Tuberculosis\n"
          ]
        }
      ]
    },
    {
      "cell_type": "code",
      "source": [
        "import matplotlib.pyplot as plt\n",
        "# Extracting training and validation loss and accuracy\n",
        "train_loss = fitted_model.history['loss']\n",
        "val_loss = fitted_model.history['val_loss']\n",
        "train_accuracy = fitted_model.history['recall']\n",
        "val_accuracy = fitted_model.history['val_recall']\n",
        "epochs = range(1, len(train_loss) + 1)\n",
        "\n",
        "# Plotting the training and validation loss\n",
        "plt.figure(figsize=(12, 4))\n",
        "\n",
        "plt.subplot(1, 2, 1)\n",
        "plt.plot(epochs, train_loss, 'bo-', label='Training Loss')\n",
        "plt.plot(epochs, val_loss, 'ro-', label='Validation Loss')\n",
        "plt.title('Training and Validation Loss')\n",
        "plt.xlabel('Epochs')\n",
        "plt.ylabel('Loss')\n",
        "plt.legend()\n",
        "\n",
        "# Plotting the training and validation accuracy\n",
        "plt.subplot(1, 2, 2)\n",
        "plt.plot(epochs, train_accuracy, 'bo-', label='Training Recall')\n",
        "plt.plot(epochs, val_accuracy, 'ro-', label='Validation Recall')\n",
        "plt.title('Training and Validation Recall')\n",
        "plt.xlabel('Epochs')\n",
        "plt.ylabel('Recall')\n",
        "plt.legend()\n",
        "\n",
        "plt.savefig('/content/drive/MyDrive/saved_models/tb-model-plots.png')"
      ],
      "metadata": {
        "colab": {
          "base_uri": "https://localhost:8080/",
          "height": 383
        },
        "id": "Y_imelCayz4d",
        "outputId": "ae42c08f-05fe-4ddf-ced2-f73c150e5eae"
      },
      "execution_count": null,
      "outputs": [
        {
          "output_type": "display_data",
          "data": {
            "text/plain": [
              "<Figure size 1200x400 with 2 Axes>"
            ],
            "image/png": "[encoded data removed]"
          },
          "metadata": {}
        }
      ]
    },
    {
      "cell_type": "code",
      "source": [],
      "metadata": {
        "id": "eT84Rk-N3OM2"
      },
      "execution_count": null,
      "outputs": []
    }
  ]
}